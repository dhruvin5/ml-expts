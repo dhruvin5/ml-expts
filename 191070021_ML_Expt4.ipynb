{
  "nbformat": 4,
  "nbformat_minor": 0,
  "metadata": {
    "colab": {
      "name": "191070021_ML_Expt4.ipynb",
      "provenance": []
    },
    "kernelspec": {
      "name": "python3",
      "display_name": "Python 3"
    },
    "language_info": {
      "name": "python"
    }
  },
  "cells": [
    {
      "cell_type": "code",
      "execution_count": null,
      "metadata": {
        "colab": {
          "base_uri": "https://localhost:8080/"
        },
        "id": "28h-z1nAVGvh",
        "outputId": "a1abf7bf-984b-4393-82d6-30351a81a70e"
      },
      "outputs": [
        {
          "output_type": "stream",
          "name": "stdout",
          "text": [
            "     outlook  temp humidity windy play\n",
            "0      sunny   hot     high    no   no\n",
            "1      sunny   hot     high   yes   no\n",
            "2   overcast   hot     high    no  yes\n",
            "3      rainy  mild     high    no  yes\n",
            "4      rainy  cool   normal    no  yes\n",
            "5      rainy  cool   normal   yes   no\n",
            "6   overcast  cool   normal   yes  yes\n",
            "7      sunny  mild     high    no   no\n",
            "8      sunny  cool   normal    no  yes\n",
            "9      rainy  mild   normal    no  yes\n",
            "10     sunny  mild   normal   yes  yes\n",
            "11  overcast  mild     high   yes  yes\n",
            "12  overcast   hot   normal    no  yes\n",
            "13     rainy  mild     high   yes   no\n"
          ]
        }
      ],
      "source": [
        "# Importing the required libraries\n",
        "import pandas as pd\n",
        "import numpy as np\n",
        "import math\n",
        "\n",
        "# Reading the dataset (Tennis-dataset)\n",
        "data = pd.read_csv('PlayTennis.csv')\n",
        "print(data)\n",
        "testing_data = data[7:]\n",
        "data = data[:7]"
      ]
    },
    {
      "cell_type": "code",
      "source": [
        "data.head()\n"
      ],
      "metadata": {
        "colab": {
          "base_uri": "https://localhost:8080/",
          "height": 206
        },
        "id": "I7a2rvSxXZBr",
        "outputId": "236baedf-f664-4b0a-8887-46acc29dec62"
      },
      "execution_count": null,
      "outputs": [
        {
          "output_type": "execute_result",
          "data": {
            "text/html": [
              "\n",
              "  <div id=\"df-7e2074c7-1be1-4b6d-9dbd-cc5076a20532\">\n",
              "    <div class=\"colab-df-container\">\n",
              "      <div>\n",
              "<style scoped>\n",
              "    .dataframe tbody tr th:only-of-type {\n",
              "        vertical-align: middle;\n",
              "    }\n",
              "\n",
              "    .dataframe tbody tr th {\n",
              "        vertical-align: top;\n",
              "    }\n",
              "\n",
              "    .dataframe thead th {\n",
              "        text-align: right;\n",
              "    }\n",
              "</style>\n",
              "<table border=\"1\" class=\"dataframe\">\n",
              "  <thead>\n",
              "    <tr style=\"text-align: right;\">\n",
              "      <th></th>\n",
              "      <th>outlook</th>\n",
              "      <th>temp</th>\n",
              "      <th>humidity</th>\n",
              "      <th>windy</th>\n",
              "      <th>play</th>\n",
              "    </tr>\n",
              "  </thead>\n",
              "  <tbody>\n",
              "    <tr>\n",
              "      <th>0</th>\n",
              "      <td>sunny</td>\n",
              "      <td>hot</td>\n",
              "      <td>high</td>\n",
              "      <td>no</td>\n",
              "      <td>no</td>\n",
              "    </tr>\n",
              "    <tr>\n",
              "      <th>1</th>\n",
              "      <td>sunny</td>\n",
              "      <td>hot</td>\n",
              "      <td>high</td>\n",
              "      <td>yes</td>\n",
              "      <td>no</td>\n",
              "    </tr>\n",
              "    <tr>\n",
              "      <th>2</th>\n",
              "      <td>overcast</td>\n",
              "      <td>hot</td>\n",
              "      <td>high</td>\n",
              "      <td>no</td>\n",
              "      <td>yes</td>\n",
              "    </tr>\n",
              "    <tr>\n",
              "      <th>3</th>\n",
              "      <td>rainy</td>\n",
              "      <td>mild</td>\n",
              "      <td>high</td>\n",
              "      <td>no</td>\n",
              "      <td>yes</td>\n",
              "    </tr>\n",
              "    <tr>\n",
              "      <th>4</th>\n",
              "      <td>rainy</td>\n",
              "      <td>cool</td>\n",
              "      <td>normal</td>\n",
              "      <td>no</td>\n",
              "      <td>yes</td>\n",
              "    </tr>\n",
              "  </tbody>\n",
              "</table>\n",
              "</div>\n",
              "      <button class=\"colab-df-convert\" onclick=\"convertToInteractive('df-7e2074c7-1be1-4b6d-9dbd-cc5076a20532')\"\n",
              "              title=\"Convert this dataframe to an interactive table.\"\n",
              "              style=\"display:none;\">\n",
              "        \n",
              "  <svg xmlns=\"http://www.w3.org/2000/svg\" height=\"24px\"viewBox=\"0 0 24 24\"\n",
              "       width=\"24px\">\n",
              "    <path d=\"M0 0h24v24H0V0z\" fill=\"none\"/>\n",
              "    <path d=\"M18.56 5.44l.94 2.06.94-2.06 2.06-.94-2.06-.94-.94-2.06-.94 2.06-2.06.94zm-11 1L8.5 8.5l.94-2.06 2.06-.94-2.06-.94L8.5 2.5l-.94 2.06-2.06.94zm10 10l.94 2.06.94-2.06 2.06-.94-2.06-.94-.94-2.06-.94 2.06-2.06.94z\"/><path d=\"M17.41 7.96l-1.37-1.37c-.4-.4-.92-.59-1.43-.59-.52 0-1.04.2-1.43.59L10.3 9.45l-7.72 7.72c-.78.78-.78 2.05 0 2.83L4 21.41c.39.39.9.59 1.41.59.51 0 1.02-.2 1.41-.59l7.78-7.78 2.81-2.81c.8-.78.8-2.07 0-2.86zM5.41 20L4 18.59l7.72-7.72 1.47 1.35L5.41 20z\"/>\n",
              "  </svg>\n",
              "      </button>\n",
              "      \n",
              "  <style>\n",
              "    .colab-df-container {\n",
              "      display:flex;\n",
              "      flex-wrap:wrap;\n",
              "      gap: 12px;\n",
              "    }\n",
              "\n",
              "    .colab-df-convert {\n",
              "      background-color: #E8F0FE;\n",
              "      border: none;\n",
              "      border-radius: 50%;\n",
              "      cursor: pointer;\n",
              "      display: none;\n",
              "      fill: #1967D2;\n",
              "      height: 32px;\n",
              "      padding: 0 0 0 0;\n",
              "      width: 32px;\n",
              "    }\n",
              "\n",
              "    .colab-df-convert:hover {\n",
              "      background-color: #E2EBFA;\n",
              "      box-shadow: 0px 1px 2px rgba(60, 64, 67, 0.3), 0px 1px 3px 1px rgba(60, 64, 67, 0.15);\n",
              "      fill: #174EA6;\n",
              "    }\n",
              "\n",
              "    [theme=dark] .colab-df-convert {\n",
              "      background-color: #3B4455;\n",
              "      fill: #D2E3FC;\n",
              "    }\n",
              "\n",
              "    [theme=dark] .colab-df-convert:hover {\n",
              "      background-color: #434B5C;\n",
              "      box-shadow: 0px 1px 3px 1px rgba(0, 0, 0, 0.15);\n",
              "      filter: drop-shadow(0px 1px 2px rgba(0, 0, 0, 0.3));\n",
              "      fill: #FFFFFF;\n",
              "    }\n",
              "  </style>\n",
              "\n",
              "      <script>\n",
              "        const buttonEl =\n",
              "          document.querySelector('#df-7e2074c7-1be1-4b6d-9dbd-cc5076a20532 button.colab-df-convert');\n",
              "        buttonEl.style.display =\n",
              "          google.colab.kernel.accessAllowed ? 'block' : 'none';\n",
              "\n",
              "        async function convertToInteractive(key) {\n",
              "          const element = document.querySelector('#df-7e2074c7-1be1-4b6d-9dbd-cc5076a20532');\n",
              "          const dataTable =\n",
              "            await google.colab.kernel.invokeFunction('convertToInteractive',\n",
              "                                                     [key], {});\n",
              "          if (!dataTable) return;\n",
              "\n",
              "          const docLinkHtml = 'Like what you see? Visit the ' +\n",
              "            '<a target=\"_blank\" href=https://colab.research.google.com/notebooks/data_table.ipynb>data table notebook</a>'\n",
              "            + ' to learn more about interactive tables.';\n",
              "          element.innerHTML = '';\n",
              "          dataTable['output_type'] = 'display_data';\n",
              "          await google.colab.output.renderOutput(dataTable, element);\n",
              "          const docLink = document.createElement('div');\n",
              "          docLink.innerHTML = docLinkHtml;\n",
              "          element.appendChild(docLink);\n",
              "        }\n",
              "      </script>\n",
              "    </div>\n",
              "  </div>\n",
              "  "
            ],
            "text/plain": [
              "    outlook  temp humidity windy play\n",
              "0     sunny   hot     high    no   no\n",
              "1     sunny   hot     high   yes   no\n",
              "2  overcast   hot     high    no  yes\n",
              "3     rainy  mild     high    no  yes\n",
              "4     rainy  cool   normal    no  yes"
            ]
          },
          "metadata": {},
          "execution_count": 67
        }
      ]
    },
    {
      "cell_type": "code",
      "source": [
        "data.describe()"
      ],
      "metadata": {
        "colab": {
          "base_uri": "https://localhost:8080/",
          "height": 175
        },
        "id": "mFIiY7OlXfXf",
        "outputId": "5ebb636f-65f5-4914-c656-1e2e3dec7d4a"
      },
      "execution_count": null,
      "outputs": [
        {
          "output_type": "execute_result",
          "data": {
            "text/html": [
              "\n",
              "  <div id=\"df-03d1cfd4-6dda-4b22-a67c-e2c2940f2b75\">\n",
              "    <div class=\"colab-df-container\">\n",
              "      <div>\n",
              "<style scoped>\n",
              "    .dataframe tbody tr th:only-of-type {\n",
              "        vertical-align: middle;\n",
              "    }\n",
              "\n",
              "    .dataframe tbody tr th {\n",
              "        vertical-align: top;\n",
              "    }\n",
              "\n",
              "    .dataframe thead th {\n",
              "        text-align: right;\n",
              "    }\n",
              "</style>\n",
              "<table border=\"1\" class=\"dataframe\">\n",
              "  <thead>\n",
              "    <tr style=\"text-align: right;\">\n",
              "      <th></th>\n",
              "      <th>outlook</th>\n",
              "      <th>temp</th>\n",
              "      <th>humidity</th>\n",
              "      <th>windy</th>\n",
              "      <th>play</th>\n",
              "    </tr>\n",
              "  </thead>\n",
              "  <tbody>\n",
              "    <tr>\n",
              "      <th>count</th>\n",
              "      <td>7</td>\n",
              "      <td>7</td>\n",
              "      <td>7</td>\n",
              "      <td>7</td>\n",
              "      <td>7</td>\n",
              "    </tr>\n",
              "    <tr>\n",
              "      <th>unique</th>\n",
              "      <td>3</td>\n",
              "      <td>3</td>\n",
              "      <td>2</td>\n",
              "      <td>2</td>\n",
              "      <td>2</td>\n",
              "    </tr>\n",
              "    <tr>\n",
              "      <th>top</th>\n",
              "      <td>sunny</td>\n",
              "      <td>mild</td>\n",
              "      <td>normal</td>\n",
              "      <td>no</td>\n",
              "      <td>yes</td>\n",
              "    </tr>\n",
              "    <tr>\n",
              "      <th>freq</th>\n",
              "      <td>3</td>\n",
              "      <td>5</td>\n",
              "      <td>4</td>\n",
              "      <td>4</td>\n",
              "      <td>5</td>\n",
              "    </tr>\n",
              "  </tbody>\n",
              "</table>\n",
              "</div>\n",
              "      <button class=\"colab-df-convert\" onclick=\"convertToInteractive('df-03d1cfd4-6dda-4b22-a67c-e2c2940f2b75')\"\n",
              "              title=\"Convert this dataframe to an interactive table.\"\n",
              "              style=\"display:none;\">\n",
              "        \n",
              "  <svg xmlns=\"http://www.w3.org/2000/svg\" height=\"24px\"viewBox=\"0 0 24 24\"\n",
              "       width=\"24px\">\n",
              "    <path d=\"M0 0h24v24H0V0z\" fill=\"none\"/>\n",
              "    <path d=\"M18.56 5.44l.94 2.06.94-2.06 2.06-.94-2.06-.94-.94-2.06-.94 2.06-2.06.94zm-11 1L8.5 8.5l.94-2.06 2.06-.94-2.06-.94L8.5 2.5l-.94 2.06-2.06.94zm10 10l.94 2.06.94-2.06 2.06-.94-2.06-.94-.94-2.06-.94 2.06-2.06.94z\"/><path d=\"M17.41 7.96l-1.37-1.37c-.4-.4-.92-.59-1.43-.59-.52 0-1.04.2-1.43.59L10.3 9.45l-7.72 7.72c-.78.78-.78 2.05 0 2.83L4 21.41c.39.39.9.59 1.41.59.51 0 1.02-.2 1.41-.59l7.78-7.78 2.81-2.81c.8-.78.8-2.07 0-2.86zM5.41 20L4 18.59l7.72-7.72 1.47 1.35L5.41 20z\"/>\n",
              "  </svg>\n",
              "      </button>\n",
              "      \n",
              "  <style>\n",
              "    .colab-df-container {\n",
              "      display:flex;\n",
              "      flex-wrap:wrap;\n",
              "      gap: 12px;\n",
              "    }\n",
              "\n",
              "    .colab-df-convert {\n",
              "      background-color: #E8F0FE;\n",
              "      border: none;\n",
              "      border-radius: 50%;\n",
              "      cursor: pointer;\n",
              "      display: none;\n",
              "      fill: #1967D2;\n",
              "      height: 32px;\n",
              "      padding: 0 0 0 0;\n",
              "      width: 32px;\n",
              "    }\n",
              "\n",
              "    .colab-df-convert:hover {\n",
              "      background-color: #E2EBFA;\n",
              "      box-shadow: 0px 1px 2px rgba(60, 64, 67, 0.3), 0px 1px 3px 1px rgba(60, 64, 67, 0.15);\n",
              "      fill: #174EA6;\n",
              "    }\n",
              "\n",
              "    [theme=dark] .colab-df-convert {\n",
              "      background-color: #3B4455;\n",
              "      fill: #D2E3FC;\n",
              "    }\n",
              "\n",
              "    [theme=dark] .colab-df-convert:hover {\n",
              "      background-color: #434B5C;\n",
              "      box-shadow: 0px 1px 3px 1px rgba(0, 0, 0, 0.15);\n",
              "      filter: drop-shadow(0px 1px 2px rgba(0, 0, 0, 0.3));\n",
              "      fill: #FFFFFF;\n",
              "    }\n",
              "  </style>\n",
              "\n",
              "      <script>\n",
              "        const buttonEl =\n",
              "          document.querySelector('#df-03d1cfd4-6dda-4b22-a67c-e2c2940f2b75 button.colab-df-convert');\n",
              "        buttonEl.style.display =\n",
              "          google.colab.kernel.accessAllowed ? 'block' : 'none';\n",
              "\n",
              "        async function convertToInteractive(key) {\n",
              "          const element = document.querySelector('#df-03d1cfd4-6dda-4b22-a67c-e2c2940f2b75');\n",
              "          const dataTable =\n",
              "            await google.colab.kernel.invokeFunction('convertToInteractive',\n",
              "                                                     [key], {});\n",
              "          if (!dataTable) return;\n",
              "\n",
              "          const docLinkHtml = 'Like what you see? Visit the ' +\n",
              "            '<a target=\"_blank\" href=https://colab.research.google.com/notebooks/data_table.ipynb>data table notebook</a>'\n",
              "            + ' to learn more about interactive tables.';\n",
              "          element.innerHTML = '';\n",
              "          dataTable['output_type'] = 'display_data';\n",
              "          await google.colab.output.renderOutput(dataTable, element);\n",
              "          const docLink = document.createElement('div');\n",
              "          docLink.innerHTML = docLinkHtml;\n",
              "          element.appendChild(docLink);\n",
              "        }\n",
              "      </script>\n",
              "    </div>\n",
              "  </div>\n",
              "  "
            ],
            "text/plain": [
              "       outlook  temp humidity windy play\n",
              "count        7     7        7     7    7\n",
              "unique       3     3        2     2    2\n",
              "top      sunny  mild   normal    no  yes\n",
              "freq         3     5        4     4    5"
            ]
          },
          "metadata": {},
          "execution_count": 27
        }
      ]
    },
    {
      "cell_type": "code",
      "source": [
        "#data.drop(['day'],inplace=True,axis=1)"
      ],
      "metadata": {
        "id": "1B2DWiXriF5g"
      },
      "execution_count": null,
      "outputs": []
    },
    {
      "cell_type": "code",
      "source": [
        "data"
      ],
      "metadata": {
        "colab": {
          "base_uri": "https://localhost:8080/",
          "height": 269
        },
        "id": "0iuZ6KcDipwu",
        "outputId": "1878e9bc-6143-4e80-bfe1-3bc72fcc2fd6"
      },
      "execution_count": null,
      "outputs": [
        {
          "output_type": "execute_result",
          "data": {
            "text/html": [
              "\n",
              "  <div id=\"df-c79232d9-bf04-4809-81d3-c7a4a5b32d59\">\n",
              "    <div class=\"colab-df-container\">\n",
              "      <div>\n",
              "<style scoped>\n",
              "    .dataframe tbody tr th:only-of-type {\n",
              "        vertical-align: middle;\n",
              "    }\n",
              "\n",
              "    .dataframe tbody tr th {\n",
              "        vertical-align: top;\n",
              "    }\n",
              "\n",
              "    .dataframe thead th {\n",
              "        text-align: right;\n",
              "    }\n",
              "</style>\n",
              "<table border=\"1\" class=\"dataframe\">\n",
              "  <thead>\n",
              "    <tr style=\"text-align: right;\">\n",
              "      <th></th>\n",
              "      <th>outlook</th>\n",
              "      <th>temp</th>\n",
              "      <th>humidity</th>\n",
              "      <th>windy</th>\n",
              "      <th>play</th>\n",
              "    </tr>\n",
              "  </thead>\n",
              "  <tbody>\n",
              "    <tr>\n",
              "      <th>7</th>\n",
              "      <td>sunny</td>\n",
              "      <td>mild</td>\n",
              "      <td>high</td>\n",
              "      <td>no</td>\n",
              "      <td>no</td>\n",
              "    </tr>\n",
              "    <tr>\n",
              "      <th>8</th>\n",
              "      <td>sunny</td>\n",
              "      <td>cool</td>\n",
              "      <td>normal</td>\n",
              "      <td>no</td>\n",
              "      <td>yes</td>\n",
              "    </tr>\n",
              "    <tr>\n",
              "      <th>9</th>\n",
              "      <td>rainy</td>\n",
              "      <td>mild</td>\n",
              "      <td>normal</td>\n",
              "      <td>no</td>\n",
              "      <td>yes</td>\n",
              "    </tr>\n",
              "    <tr>\n",
              "      <th>10</th>\n",
              "      <td>sunny</td>\n",
              "      <td>mild</td>\n",
              "      <td>normal</td>\n",
              "      <td>yes</td>\n",
              "      <td>yes</td>\n",
              "    </tr>\n",
              "    <tr>\n",
              "      <th>11</th>\n",
              "      <td>overcast</td>\n",
              "      <td>mild</td>\n",
              "      <td>high</td>\n",
              "      <td>yes</td>\n",
              "      <td>yes</td>\n",
              "    </tr>\n",
              "    <tr>\n",
              "      <th>12</th>\n",
              "      <td>overcast</td>\n",
              "      <td>hot</td>\n",
              "      <td>normal</td>\n",
              "      <td>no</td>\n",
              "      <td>yes</td>\n",
              "    </tr>\n",
              "    <tr>\n",
              "      <th>13</th>\n",
              "      <td>rainy</td>\n",
              "      <td>mild</td>\n",
              "      <td>high</td>\n",
              "      <td>yes</td>\n",
              "      <td>no</td>\n",
              "    </tr>\n",
              "  </tbody>\n",
              "</table>\n",
              "</div>\n",
              "      <button class=\"colab-df-convert\" onclick=\"convertToInteractive('df-c79232d9-bf04-4809-81d3-c7a4a5b32d59')\"\n",
              "              title=\"Convert this dataframe to an interactive table.\"\n",
              "              style=\"display:none;\">\n",
              "        \n",
              "  <svg xmlns=\"http://www.w3.org/2000/svg\" height=\"24px\"viewBox=\"0 0 24 24\"\n",
              "       width=\"24px\">\n",
              "    <path d=\"M0 0h24v24H0V0z\" fill=\"none\"/>\n",
              "    <path d=\"M18.56 5.44l.94 2.06.94-2.06 2.06-.94-2.06-.94-.94-2.06-.94 2.06-2.06.94zm-11 1L8.5 8.5l.94-2.06 2.06-.94-2.06-.94L8.5 2.5l-.94 2.06-2.06.94zm10 10l.94 2.06.94-2.06 2.06-.94-2.06-.94-.94-2.06-.94 2.06-2.06.94z\"/><path d=\"M17.41 7.96l-1.37-1.37c-.4-.4-.92-.59-1.43-.59-.52 0-1.04.2-1.43.59L10.3 9.45l-7.72 7.72c-.78.78-.78 2.05 0 2.83L4 21.41c.39.39.9.59 1.41.59.51 0 1.02-.2 1.41-.59l7.78-7.78 2.81-2.81c.8-.78.8-2.07 0-2.86zM5.41 20L4 18.59l7.72-7.72 1.47 1.35L5.41 20z\"/>\n",
              "  </svg>\n",
              "      </button>\n",
              "      \n",
              "  <style>\n",
              "    .colab-df-container {\n",
              "      display:flex;\n",
              "      flex-wrap:wrap;\n",
              "      gap: 12px;\n",
              "    }\n",
              "\n",
              "    .colab-df-convert {\n",
              "      background-color: #E8F0FE;\n",
              "      border: none;\n",
              "      border-radius: 50%;\n",
              "      cursor: pointer;\n",
              "      display: none;\n",
              "      fill: #1967D2;\n",
              "      height: 32px;\n",
              "      padding: 0 0 0 0;\n",
              "      width: 32px;\n",
              "    }\n",
              "\n",
              "    .colab-df-convert:hover {\n",
              "      background-color: #E2EBFA;\n",
              "      box-shadow: 0px 1px 2px rgba(60, 64, 67, 0.3), 0px 1px 3px 1px rgba(60, 64, 67, 0.15);\n",
              "      fill: #174EA6;\n",
              "    }\n",
              "\n",
              "    [theme=dark] .colab-df-convert {\n",
              "      background-color: #3B4455;\n",
              "      fill: #D2E3FC;\n",
              "    }\n",
              "\n",
              "    [theme=dark] .colab-df-convert:hover {\n",
              "      background-color: #434B5C;\n",
              "      box-shadow: 0px 1px 3px 1px rgba(0, 0, 0, 0.15);\n",
              "      filter: drop-shadow(0px 1px 2px rgba(0, 0, 0, 0.3));\n",
              "      fill: #FFFFFF;\n",
              "    }\n",
              "  </style>\n",
              "\n",
              "      <script>\n",
              "        const buttonEl =\n",
              "          document.querySelector('#df-c79232d9-bf04-4809-81d3-c7a4a5b32d59 button.colab-df-convert');\n",
              "        buttonEl.style.display =\n",
              "          google.colab.kernel.accessAllowed ? 'block' : 'none';\n",
              "\n",
              "        async function convertToInteractive(key) {\n",
              "          const element = document.querySelector('#df-c79232d9-bf04-4809-81d3-c7a4a5b32d59');\n",
              "          const dataTable =\n",
              "            await google.colab.kernel.invokeFunction('convertToInteractive',\n",
              "                                                     [key], {});\n",
              "          if (!dataTable) return;\n",
              "\n",
              "          const docLinkHtml = 'Like what you see? Visit the ' +\n",
              "            '<a target=\"_blank\" href=https://colab.research.google.com/notebooks/data_table.ipynb>data table notebook</a>'\n",
              "            + ' to learn more about interactive tables.';\n",
              "          element.innerHTML = '';\n",
              "          dataTable['output_type'] = 'display_data';\n",
              "          await google.colab.output.renderOutput(dataTable, element);\n",
              "          const docLink = document.createElement('div');\n",
              "          docLink.innerHTML = docLinkHtml;\n",
              "          element.appendChild(docLink);\n",
              "        }\n",
              "      </script>\n",
              "    </div>\n",
              "  </div>\n",
              "  "
            ],
            "text/plain": [
              "     outlook  temp humidity windy play\n",
              "7      sunny  mild     high    no   no\n",
              "8      sunny  cool   normal    no  yes\n",
              "9      rainy  mild   normal    no  yes\n",
              "10     sunny  mild   normal   yes  yes\n",
              "11  overcast  mild     high   yes  yes\n",
              "12  overcast   hot   normal    no  yes\n",
              "13     rainy  mild     high   yes   no"
            ]
          },
          "metadata": {},
          "execution_count": 28
        }
      ]
    },
    {
      "cell_type": "code",
      "source": [
        "def find_entropy_dataset(data):\n",
        "    \"\"\"\n",
        "    entropy : - ∑ P(X)logP(X)\n",
        "    \"\"\"\n",
        "    Class = data.keys()[-1]   \n",
        "    entropy = 0\n",
        "    values = data[Class].unique()\n",
        "    for value in values:\n",
        "        f = data[Class].value_counts()[value]/len(data[Class])\n",
        "        entropy += -f*np.log(f)\n",
        "    return entropy"
      ],
      "metadata": {
        "id": "KDFreyBkXp9X"
      },
      "execution_count": null,
      "outputs": []
    },
    {
      "cell_type": "code",
      "source": [
        "entropy_dataset = find_entropy_dataset(data)\n",
        "print(f'Entropy of the entire dataset: {entropy_dataset}') "
      ],
      "metadata": {
        "colab": {
          "base_uri": "https://localhost:8080/"
        },
        "id": "DARm88hMY7Mi",
        "outputId": "3ef414d9-e235-4d20-c7d4-f5abd8bf9aaa"
      },
      "execution_count": null,
      "outputs": [
        {
          "output_type": "stream",
          "name": "stdout",
          "text": [
            "Entropy of the entire dataset: 0.5982695885852573\n"
          ]
        }
      ]
    },
    {
      "cell_type": "code",
      "source": [
        "def entropy_each(data,attribute):\n",
        "    target_variables = data.play.unique()  #[ 'Yes' , 'No']\n",
        "    variables = data[attribute].unique()     # sunny, overcast, rainy\n",
        "    #print(variables)\n",
        "    max = 0\n",
        "    min = 0\n",
        "    entropy_attribute = 0   \n",
        "  \n",
        "    entropy_attribute = 0\n",
        "    for variable in variables: # sunny\n",
        "        entropy_each_feature = 0\n",
        "        for target_variable in target_variables: # YEs or No \n",
        "            num = len(data[attribute][data[attribute]==variable][data.play ==target_variable]) #numerator : calculating sunny Yes\n",
        "            den = len(data[attribute][data[attribute]==variable])  #denominator : Sunny\n",
        "            fraction = num/(den+np.finfo(float).eps)  \n",
        "            entropy_each_feature += -fraction*np.log(fraction+np.finfo(float).eps) #This calculates entropy for one feature \n",
        "        fraction2 = den/len(data)\n",
        "        entropy_attribute += -fraction2*entropy_each_feature   #Sums up all the entropy \n",
        "\n",
        "    return(abs(entropy_attribute))"
      ],
      "metadata": {
        "id": "qB0NE2Fida62"
      },
      "execution_count": null,
      "outputs": []
    },
    {
      "cell_type": "code",
      "source": [
        "attribute_entropy = {k:entropy_each(data,k) for k in data.keys()[:-1]}\n",
        "attribute_entropy"
      ],
      "metadata": {
        "colab": {
          "base_uri": "https://localhost:8080/"
        },
        "id": "eYeK64ogddOj",
        "outputId": "2fadd8e2-efc8-4100-ebc3-95e2d880e2f3"
      },
      "execution_count": null,
      "outputs": [
        {
          "output_type": "execute_result",
          "data": {
            "text/plain": [
              "{'humidity': 0.2727917864120623,\n",
              " 'outlook': 0.470833838000618,\n",
              " 'temp': 0.4807226192923258,\n",
              " 'windy': 0.5941261547656669}"
            ]
          },
          "metadata": {},
          "execution_count": 34
        }
      ]
    },
    {
      "cell_type": "code",
      "source": [
        "def information_gain(entropy_dataset,attribute_entropy):\n",
        "    return(entropy_dataset-attribute_entropy)"
      ],
      "metadata": {
        "id": "v4ijD2BKg7y1"
      },
      "execution_count": null,
      "outputs": []
    },
    {
      "cell_type": "code",
      "source": [
        "InfoGain = {k:information_gain(entropy_dataset,attribute_entropy[k]) for k in attribute_entropy}\n",
        "print(InfoGain)"
      ],
      "metadata": {
        "colab": {
          "base_uri": "https://localhost:8080/"
        },
        "id": "YoUEzUZHg5b7",
        "outputId": "bfca7405-c52a-4d65-fb55-9c9b1d6af588"
      },
      "execution_count": null,
      "outputs": [
        {
          "output_type": "stream",
          "name": "stdout",
          "text": [
            "{'outlook': 0.12743575058463924, 'temp': 0.11754696929293146, 'humidity': 0.32547780217319494, 'windy': 0.00414343381959037}\n"
          ]
        }
      ]
    },
    {
      "cell_type": "code",
      "source": [
        "def find_winner(data):\n",
        "    Entropy_att = []\n",
        "    IG = []\n",
        "    for key in data.keys()[:-1]:\n",
        "        IG.append(find_entropy_dataset(data)-entropy_each(data,key))\n",
        "    return data.keys()[:-1][np.argmax(IG)]\n",
        "  "
      ],
      "metadata": {
        "id": "z30KVyIJhCT8"
      },
      "execution_count": null,
      "outputs": []
    },
    {
      "cell_type": "code",
      "source": [
        "def get_subtable(data, node,value):\n",
        "  return data[data[node] == value].reset_index(drop=True)"
      ],
      "metadata": {
        "id": "NKVZ4mJgPwx3"
      },
      "execution_count": null,
      "outputs": []
    },
    {
      "cell_type": "code",
      "source": [
        "node = find_winner(data)\n",
        "attValue = np.unique(data[node])\n",
        "for value in attValue:\n",
        "  subtable = get_subtable(data,node,value)\n",
        "  print(subtable)\n",
        "  print('\\n')"
      ],
      "metadata": {
        "colab": {
          "base_uri": "https://localhost:8080/"
        },
        "id": "Y841laonhC-o",
        "outputId": "fa99fdd8-ebfd-4b70-ad54-7ac49c8a0b77"
      },
      "execution_count": null,
      "outputs": [
        {
          "output_type": "stream",
          "name": "stdout",
          "text": [
            "    outlook  temp humidity windy play\n",
            "0     sunny  mild     high    no   no\n",
            "1  overcast  mild     high   yes  yes\n",
            "2     rainy  mild     high   yes   no\n",
            "\n",
            "\n",
            "    outlook  temp humidity windy play\n",
            "0     sunny  cool   normal    no  yes\n",
            "1     rainy  mild   normal    no  yes\n",
            "2     sunny  mild   normal   yes  yes\n",
            "3  overcast   hot   normal    no  yes\n",
            "\n",
            "\n"
          ]
        }
      ]
    },
    {
      "cell_type": "code",
      "source": [
        "def buildTree(data,tree=None): \n",
        "    Class = data.keys()[-1]  \n",
        "    \n",
        "\n",
        "    node = find_winner(data) #outlook\n",
        "    \n",
        "  \n",
        "    attValue = np.unique(data[node]) # ['sunny', 'rainy', 'overcast']\n",
        "    \n",
        "    if tree is None:                    \n",
        "        tree={}\n",
        "        tree[node] = {}\n",
        "    \n",
        "\n",
        "    for value in attValue:\n",
        "        \n",
        "        subtable = get_subtable(data,node,value) # prints all records with the value\n",
        "        clValue,counts = np.unique(subtable[Class],return_counts=True)  # number of no's and number of yes's                      \n",
        "        \n",
        "        if len(counts)==1:#Checking purity of subset\n",
        "            tree[node][value] = clValue[0]                                                    \n",
        "        else:        \n",
        "            tree[node][value] = buildTree(subtable) #Calling the function recursively \n",
        "                   \n",
        "    return tree"
      ],
      "metadata": {
        "id": "_Q8G5h67P3XP"
      },
      "execution_count": null,
      "outputs": []
    },
    {
      "cell_type": "code",
      "source": [
        "finalTree  = buildTree(data)\n",
        "import pprint\n",
        "pprint.pprint(finalTree)"
      ],
      "metadata": {
        "colab": {
          "base_uri": "https://localhost:8080/"
        },
        "id": "PXmTBWMAP8gB",
        "outputId": "9dac6abe-8062-453d-bec9-986b871421d9"
      },
      "execution_count": null,
      "outputs": [
        {
          "output_type": "stream",
          "name": "stdout",
          "text": [
            "{'outlook': {'overcast': 'yes',\n",
            "             'rainy': {'windy': {'no': 'yes', 'yes': 'no'}},\n",
            "             'sunny': 'no'}}\n"
          ]
        }
      ]
    },
    {
      "cell_type": "markdown",
      "source": [
        "![Screenshot 2022-02-18 163900.png](data:image/png;base64,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)"
      ],
      "metadata": {
        "id": "CB6xo5k_heIR"
      }
    },
    {
      "cell_type": "code",
      "source": [
        "def check(record, finalTree):\n",
        "  if type(finalTree) is dict:\n",
        "    res = 0\n",
        "    for key in finalTree.keys() :\n",
        "        f = key\n",
        "        res= finalTree[key]\n",
        "    l2 = record[f]\n",
        "    return check(record, res[l2])\n",
        "  elif record['play'] == finalTree:\n",
        "    return 1\n",
        "  else:\n",
        "    return 0"
      ],
      "metadata": {
        "id": "ZziQgblvP_Qh"
      },
      "execution_count": null,
      "outputs": []
    },
    {
      "cell_type": "code",
      "source": [
        "recs = testing_data.to_dict('records')\n",
        "sum = 0\n",
        "total = len(recs)\n",
        "\n",
        "for i in range(len(recs)):\n",
        "  #print(recs[i])\n",
        "  sum = sum +check(recs[i], finalTree)\n",
        "\n",
        "print('Accuracy of this algorithm = ' ,round(sum/total *100 , 2) )"
      ],
      "metadata": {
        "colab": {
          "base_uri": "https://localhost:8080/"
        },
        "id": "Os-831_8QBQw",
        "outputId": "d0a07916-6d21-4842-ac04-b7c3bc492cf2"
      },
      "execution_count": null,
      "outputs": [
        {
          "output_type": "stream",
          "name": "stdout",
          "text": [
            "Accuracy of this algorithm =  71.43\n"
          ]
        }
      ]
    },
    {
      "cell_type": "code",
      "source": [
        "!wget https://raw.githubusercontent.com/datasciencedojo/datasets/master/titanic.csv\n",
        "\n",
        "\n",
        "# Reading the dataset (Tennis-dataset)\n",
        "titanic_data = pd.read_csv('titanic.csv')\n",
        "print(titanic_data)\n",
        "td = pd.DataFrame(titanic_data,columns = ['Sex', 'Pclass', 'Parch','Embarked','Survived'])\n",
        "td.rename(columns = {'Survived':'play'}, inplace = True)\n",
        "for i in td.index:\n",
        "  if td['play'][i] == 1:\n",
        "    td['play'][i]  = 'yes'\n",
        "  else:\n",
        "    td['play'][i]  = 'no'\n",
        "\n",
        "train_data_titanic = td[30:40]\n",
        "testing_data_titanic = td[-14:]"
      ],
      "metadata": {
        "colab": {
          "base_uri": "https://localhost:8080/"
        },
        "id": "Bbg8S2s9OncZ",
        "outputId": "63e6bfbf-71e7-4a0f-f2a3-950cd2f63466"
      },
      "execution_count": null,
      "outputs": [
        {
          "output_type": "stream",
          "name": "stdout",
          "text": [
            "--2022-02-18 09:53:05--  https://raw.githubusercontent.com/datasciencedojo/datasets/master/titanic.csv\n",
            "Resolving raw.githubusercontent.com (raw.githubusercontent.com)... 185.199.111.133, 185.199.108.133, 185.199.109.133, ...\n",
            "Connecting to raw.githubusercontent.com (raw.githubusercontent.com)|185.199.111.133|:443... connected.\n",
            "HTTP request sent, awaiting response... 200 OK\n",
            "Length: 60302 (59K) [text/plain]\n",
            "Saving to: ‘titanic.csv.14’\n",
            "\n",
            "\rtitanic.csv.14        0%[                    ]       0  --.-KB/s               \rtitanic.csv.14      100%[===================>]  58.89K  --.-KB/s    in 0.007s  \n",
            "\n",
            "2022-02-18 09:53:05 (7.95 MB/s) - ‘titanic.csv.14’ saved [60302/60302]\n",
            "\n",
            "     PassengerId  Survived  Pclass  ...     Fare Cabin  Embarked\n",
            "0              1         0       3  ...   7.2500   NaN         S\n",
            "1              2         1       1  ...  71.2833   C85         C\n",
            "2              3         1       3  ...   7.9250   NaN         S\n",
            "3              4         1       1  ...  53.1000  C123         S\n",
            "4              5         0       3  ...   8.0500   NaN         S\n",
            "..           ...       ...     ...  ...      ...   ...       ...\n",
            "886          887         0       2  ...  13.0000   NaN         S\n",
            "887          888         1       1  ...  30.0000   B42         S\n",
            "888          889         0       3  ...  23.4500   NaN         S\n",
            "889          890         1       1  ...  30.0000  C148         C\n",
            "890          891         0       3  ...   7.7500   NaN         Q\n",
            "\n",
            "[891 rows x 12 columns]\n"
          ]
        },
        {
          "output_type": "stream",
          "name": "stderr",
          "text": [
            "/usr/local/lib/python3.7/dist-packages/ipykernel_launcher.py:13: SettingWithCopyWarning: \n",
            "A value is trying to be set on a copy of a slice from a DataFrame\n",
            "\n",
            "See the caveats in the documentation: https://pandas.pydata.org/pandas-docs/stable/user_guide/indexing.html#returning-a-view-versus-a-copy\n",
            "  del sys.path[0]\n",
            "/usr/local/lib/python3.7/dist-packages/pandas/core/indexing.py:1732: SettingWithCopyWarning: \n",
            "A value is trying to be set on a copy of a slice from a DataFrame\n",
            "\n",
            "See the caveats in the documentation: https://pandas.pydata.org/pandas-docs/stable/user_guide/indexing.html#returning-a-view-versus-a-copy\n",
            "  self._setitem_single_block(indexer, value, name)\n"
          ]
        }
      ]
    },
    {
      "cell_type": "code",
      "source": [
        "print(train_data_titanic)"
      ],
      "metadata": {
        "colab": {
          "base_uri": "https://localhost:8080/"
        },
        "id": "dYLn8kcLOsI-",
        "outputId": "259886f0-af57-4873-dddd-a924132b1913"
      },
      "execution_count": null,
      "outputs": [
        {
          "output_type": "stream",
          "name": "stdout",
          "text": [
            "       Sex  Pclass  Parch Embarked play\n",
            "30    male       1      0        C   no\n",
            "31  female       1      0        C  yes\n",
            "32  female       3      0        Q  yes\n",
            "33    male       2      0        S   no\n",
            "34    male       1      0        C   no\n",
            "35    male       1      0        S   no\n",
            "36    male       3      0        C  yes\n",
            "37    male       3      0        S   no\n",
            "38  female       3      0        S   no\n",
            "39  female       3      0        C  yes\n"
          ]
        }
      ]
    },
    {
      "cell_type": "code",
      "source": [
        "finalTree  = buildTree(train_data_titanic)\n",
        "import pprint\n",
        "pprint.pprint(finalTree)"
      ],
      "metadata": {
        "colab": {
          "base_uri": "https://localhost:8080/"
        },
        "id": "BhoWltA_OvoD",
        "outputId": "dfc3906a-8433-4b0e-9e24-31f74a0fdd68"
      },
      "execution_count": null,
      "outputs": [
        {
          "output_type": "stream",
          "name": "stdout",
          "text": [
            "{'Embarked': {'C': {'Sex': {'female': 'yes',\n",
            "                            'male': {'Pclass': {1: 'no', 3: 'yes'}}}},\n",
            "              'Q': 'yes',\n",
            "              'S': 'no'}}\n"
          ]
        }
      ]
    },
    {
      "cell_type": "markdown",
      "source": [
        "![Screenshot 2022-02-18 163828.png](data:image/png;base64,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)"
      ],
      "metadata": {
        "id": "fXHVl41_g3FW"
      }
    },
    {
      "cell_type": "code",
      "source": [
        "recs = testing_data_titanic.to_dict('records')\n",
        "sum = 0\n",
        "total = len(recs)\n",
        "\n",
        "for i in range(len(recs)):\n",
        "  #print(recs[i])\n",
        "  sum = sum +check(recs[i], finalTree)\n",
        "\n",
        "print('Accuracy of this algorithm = ' ,round(sum/total *100 , 2) )"
      ],
      "metadata": {
        "colab": {
          "base_uri": "https://localhost:8080/"
        },
        "id": "qGZp_j7xOy2r",
        "outputId": "58eaa466-fb30-4be0-929a-c67e01355f54"
      },
      "execution_count": null,
      "outputs": [
        {
          "output_type": "stream",
          "name": "stdout",
          "text": [
            "Accuracy of this algorithm =  64.29\n"
          ]
        }
      ]
    },
    {
      "cell_type": "markdown",
      "source": [
        "Decision trees assist analysts in evaluating upcoming choices. The tree\n",
        "creates a visual representation of all possible outcomes, rewards and\n",
        "follow-up decisions in one document.\n",
        "Each subsequent decision resulting from the original choice is also depicted\n",
        "on the tree, so you can see the overall effect of any one decision. As one\n",
        "goes through the tree and makes choices, one will see a specific path from\n",
        "one node to another and the impact a decision made now could have down\n",
        "the road.\n",
        "Thus in this experiment I was understood what a decision tree is and was\n",
        "able to implement it as well."
      ],
      "metadata": {
        "id": "D9yXgyb9GEzl"
      }
    }
  ]
}